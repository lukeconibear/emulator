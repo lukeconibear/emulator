{
 "cells": [
  {
   "cell_type": "markdown",
   "metadata": {},
   "source": [
    "#### Find kernel with highest accuracy within Gaussian Process Regressor\n",
    "#### Cross-validated randomised search of hyperparameters\n",
    "#### For 20 random test grid cells, each with 500 iterations"
   ]
  },
  {
   "cell_type": "code",
   "execution_count": 12,
   "metadata": {},
   "outputs": [],
   "source": [
    "import pickle\n",
    "import pandas as pd\n",
    "import numpy as np\n",
    "from sklearn.model_selection import (train_test_split,\n",
    "                                     cross_val_score,\n",
    "                                     RandomizedSearchCV,\n",
    "                                     LeaveOneOut)\n",
    "from sklearn.gaussian_process import GaussianProcessRegressor\n",
    "from sklearn.gaussian_process.kernels import (DotProduct,\n",
    "                                              ConstantKernel,\n",
    "                                              WhiteKernel,\n",
    "                                              Matern,\n",
    "                                              ExpSineSquared,\n",
    "                                              RationalQuadratic,\n",
    "                                              RBF)"
   ]
  },
  {
   "cell_type": "code",
   "execution_count": 3,
   "metadata": {},
   "outputs": [
    {
     "data": {
      "text/html": [
       "<div>\n",
       "<style scoped>\n",
       "    .dataframe tbody tr th:only-of-type {\n",
       "        vertical-align: middle;\n",
       "    }\n",
       "\n",
       "    .dataframe tbody tr th {\n",
       "        vertical-align: top;\n",
       "    }\n",
       "\n",
       "    .dataframe thead th {\n",
       "        text-align: right;\n",
       "    }\n",
       "</style>\n",
       "<table border=\"1\" class=\"dataframe\">\n",
       "  <thead>\n",
       "    <tr style=\"text-align: right;\">\n",
       "      <th></th>\n",
       "      <th>lat</th>\n",
       "      <th>lon</th>\n",
       "      <th>RES</th>\n",
       "      <th>IND</th>\n",
       "      <th>TRA</th>\n",
       "      <th>AGR</th>\n",
       "      <th>POW</th>\n",
       "      <th>PM2_5_DRY</th>\n",
       "    </tr>\n",
       "  </thead>\n",
       "  <tbody>\n",
       "    <tr>\n",
       "      <th>0</th>\n",
       "      <td>30.5</td>\n",
       "      <td>114.25</td>\n",
       "      <td>0.23229</td>\n",
       "      <td>0.20507</td>\n",
       "      <td>0.299040</td>\n",
       "      <td>0.97374</td>\n",
       "      <td>0.55184</td>\n",
       "      <td>82.050903</td>\n",
       "    </tr>\n",
       "    <tr>\n",
       "      <th>1</th>\n",
       "      <td>30.5</td>\n",
       "      <td>114.25</td>\n",
       "      <td>1.12120</td>\n",
       "      <td>1.10980</td>\n",
       "      <td>0.870100</td>\n",
       "      <td>1.22220</td>\n",
       "      <td>1.25200</td>\n",
       "      <td>260.182960</td>\n",
       "    </tr>\n",
       "    <tr>\n",
       "      <th>2</th>\n",
       "      <td>30.5</td>\n",
       "      <td>114.25</td>\n",
       "      <td>0.79843</td>\n",
       "      <td>1.29460</td>\n",
       "      <td>0.090709</td>\n",
       "      <td>0.75401</td>\n",
       "      <td>0.19420</td>\n",
       "      <td>209.802636</td>\n",
       "    </tr>\n",
       "    <tr>\n",
       "      <th>3</th>\n",
       "      <td>30.5</td>\n",
       "      <td>114.25</td>\n",
       "      <td>0.34445</td>\n",
       "      <td>1.42240</td>\n",
       "      <td>0.751120</td>\n",
       "      <td>1.24090</td>\n",
       "      <td>1.21130</td>\n",
       "      <td>164.002287</td>\n",
       "    </tr>\n",
       "    <tr>\n",
       "      <th>4</th>\n",
       "      <td>30.5</td>\n",
       "      <td>114.25</td>\n",
       "      <td>0.62562</td>\n",
       "      <td>1.35890</td>\n",
       "      <td>1.058300</td>\n",
       "      <td>0.04688</td>\n",
       "      <td>0.64196</td>\n",
       "      <td>196.083809</td>\n",
       "    </tr>\n",
       "  </tbody>\n",
       "</table>\n",
       "</div>"
      ],
      "text/plain": [
       "    lat     lon      RES      IND       TRA      AGR      POW   PM2_5_DRY\n",
       "0  30.5  114.25  0.23229  0.20507  0.299040  0.97374  0.55184   82.050903\n",
       "1  30.5  114.25  1.12120  1.10980  0.870100  1.22220  1.25200  260.182960\n",
       "2  30.5  114.25  0.79843  1.29460  0.090709  0.75401  0.19420  209.802636\n",
       "3  30.5  114.25  0.34445  1.42240  0.751120  1.24090  1.21130  164.002287\n",
       "4  30.5  114.25  0.62562  1.35890  1.058300  0.04688  0.64196  196.083809"
      ]
     },
     "execution_count": 3,
     "metadata": {},
     "output_type": "execute_result"
    }
   ],
   "source": [
    "with open('/nfs/see-fs-02_users/earlacoa/emulator/dfs_gridcell_sample.pickle', 'rb') as ds:\n",
    "    df_gridcells = pickle.load(ds)\n",
    "    \n",
    "df_gridcells.head()"
   ]
  },
  {
   "cell_type": "code",
   "execution_count": 9,
   "metadata": {},
   "outputs": [],
   "source": [
    "kernel_list = [Matern(nu=i, length_scale=j) for i in [0.5, 1.5, 2.5] for j in np.arange(0.1, 5, 0.1)] + \\\n",
    "              [ConstantKernel(constant_value=i) ** Matern(nu=j, length_scale=k) for i in np.arange(0.1, 5, 0.1) for j in [0.5, 1.5, 2.5] for k in np.arange(0.1, 5, 0.1)] + \\\n",
    "              [ConstantKernel(i) for i in np.arange(0.1, 5, 0.1)] + \\\n",
    "              [DotProduct(i) for i in np.arange(0.1, 5, 0.1)] + \\\n",
    "              [ConstantKernel(i) ** DotProduct(j) for i in np.arange(0.1, 5, 0.1) for j in np.arange(0.1, 5, 0.1)] + \\\n",
    "              [WhiteKernel(i) for i in np.arange(0.1, 5, 0.1)] + \\\n",
    "              [ExpSineSquared(i) for i in np.arange(0.1, 5, 0.1)] + \\\n",
    "              [RationalQuadratic(i) for i in np.arange(0.1, 5, 0.1)] + \\\n",
    "              [RBF(i) for i in np.arange(0.1, 5, 0.1)]"
   ]
  },
  {
   "cell_type": "code",
   "execution_count": 5,
   "metadata": {},
   "outputs": [],
   "source": [
    "param_grid = {'kernel': kernel_list,\n",
    "              'n_restarts_optimizer': np.arange(100, 200, 5),\n",
    "              'normalize_y': [True, False]}"
   ]
  },
  {
   "cell_type": "code",
   "execution_count": 13,
   "metadata": {},
   "outputs": [
    {
     "name": "stdout",
     "output_type": "stream",
     "text": [
      "Fitting 5 folds for each of 500 candidates, totalling 2500 fits\n"
     ]
    },
    {
     "name": "stderr",
     "output_type": "stream",
     "text": [
      "[Parallel(n_jobs=-1)]: Using backend LokyBackend with 32 concurrent workers.\n",
      "[Parallel(n_jobs=-1)]: Done  98 tasks      | elapsed:  1.8min\n",
      "[Parallel(n_jobs=-1)]: Done 301 tasks      | elapsed:  1.9min\n",
      "[Parallel(n_jobs=-1)]: Done 584 tasks      | elapsed:  2.2min\n",
      "[Parallel(n_jobs=-1)]: Done 949 tasks      | elapsed:  2.4min\n",
      "[Parallel(n_jobs=-1)]: Done 1394 tasks      | elapsed:  2.7min\n",
      "[Parallel(n_jobs=-1)]: Done 1921 tasks      | elapsed:  3.1min\n",
      "[Parallel(n_jobs=-1)]: Done 2500 out of 2500 | elapsed:  3.6min finished\n",
      "/nfs/a68/earlacoa/miniconda2/envs/python3/lib/python3.6/site-packages/sklearn/gaussian_process/_gpr.py:494: ConvergenceWarning: lbfgs failed to converge (status=2):\n",
      "ABNORMAL_TERMINATION_IN_LNSRCH.\n",
      "\n",
      "Increase the number of iterations (max_iter) or scale the data as shown in:\n",
      "    https://scikit-learn.org/stable/modules/preprocessing.html\n",
      "  _check_optimize_result(\"lbfgs\", opt_res)\n"
     ]
    },
    {
     "name": "stdout",
     "output_type": "stream",
     "text": [
      "CV score: -26.8291\n",
      "test score: -0.9143\n",
      "best estimator: GaussianProcessRegressor(alpha=1e-10, copy_X_train=True, kernel=0.316**2,\n",
      "                         n_restarts_optimizer=120, normalize_y=False,\n",
      "                         optimizer='fmin_l_bfgs_b', random_state=123)\n",
      "Fitting 5 folds for each of 500 candidates, totalling 2500 fits\n"
     ]
    },
    {
     "name": "stderr",
     "output_type": "stream",
     "text": [
      "[Parallel(n_jobs=-1)]: Using backend LokyBackend with 32 concurrent workers.\n",
      "[Parallel(n_jobs=-1)]: Done  98 tasks      | elapsed:  1.8min\n",
      "[Parallel(n_jobs=-1)]: Done 301 tasks      | elapsed:  1.9min\n",
      "[Parallel(n_jobs=-1)]: Done 584 tasks      | elapsed:  2.2min\n",
      "[Parallel(n_jobs=-1)]: Done 949 tasks      | elapsed:  2.4min\n",
      "[Parallel(n_jobs=-1)]: Done 1394 tasks      | elapsed:  2.8min\n",
      "[Parallel(n_jobs=-1)]: Done 1921 tasks      | elapsed:  3.2min\n",
      "[Parallel(n_jobs=-1)]: Done 2500 out of 2500 | elapsed:  3.7min finished\n",
      "/nfs/a68/earlacoa/miniconda2/envs/python3/lib/python3.6/site-packages/sklearn/gaussian_process/_gpr.py:494: ConvergenceWarning: lbfgs failed to converge (status=2):\n",
      "ABNORMAL_TERMINATION_IN_LNSRCH.\n",
      "\n",
      "Increase the number of iterations (max_iter) or scale the data as shown in:\n",
      "    https://scikit-learn.org/stable/modules/preprocessing.html\n",
      "  _check_optimize_result(\"lbfgs\", opt_res)\n"
     ]
    },
    {
     "name": "stdout",
     "output_type": "stream",
     "text": [
      "CV score: -3.4044\n",
      "test score: -0.8982\n",
      "best estimator: GaussianProcessRegressor(alpha=1e-10, copy_X_train=True, kernel=1.9**2,\n",
      "                         n_restarts_optimizer=100, normalize_y=False,\n",
      "                         optimizer='fmin_l_bfgs_b', random_state=123)\n",
      "Fitting 5 folds for each of 500 candidates, totalling 2500 fits\n"
     ]
    },
    {
     "name": "stderr",
     "output_type": "stream",
     "text": [
      "[Parallel(n_jobs=-1)]: Using backend LokyBackend with 32 concurrent workers.\n",
      "[Parallel(n_jobs=-1)]: Done  98 tasks      | elapsed:  1.7min\n",
      "[Parallel(n_jobs=-1)]: Done 301 tasks      | elapsed:  1.9min\n",
      "[Parallel(n_jobs=-1)]: Done 584 tasks      | elapsed:  2.1min\n",
      "[Parallel(n_jobs=-1)]: Done 949 tasks      | elapsed:  2.4min\n",
      "[Parallel(n_jobs=-1)]: Done 1394 tasks      | elapsed:  2.7min\n",
      "[Parallel(n_jobs=-1)]: Done 1921 tasks      | elapsed:  3.1min\n",
      "[Parallel(n_jobs=-1)]: Done 2500 out of 2500 | elapsed:  3.6min finished\n",
      "/nfs/a68/earlacoa/miniconda2/envs/python3/lib/python3.6/site-packages/sklearn/gaussian_process/_gpr.py:494: ConvergenceWarning: lbfgs failed to converge (status=2):\n",
      "ABNORMAL_TERMINATION_IN_LNSRCH.\n",
      "\n",
      "Increase the number of iterations (max_iter) or scale the data as shown in:\n",
      "    https://scikit-learn.org/stable/modules/preprocessing.html\n",
      "  _check_optimize_result(\"lbfgs\", opt_res)\n"
     ]
    },
    {
     "name": "stdout",
     "output_type": "stream",
     "text": [
      "CV score: -42.7367\n",
      "test score: -2.5986\n",
      "best estimator: GaussianProcessRegressor(alpha=1e-10, copy_X_train=True,\n",
      "                         kernel=DotProduct(sigma_0=3.1),\n",
      "                         n_restarts_optimizer=165, normalize_y=False,\n",
      "                         optimizer='fmin_l_bfgs_b', random_state=123)\n",
      "Fitting 5 folds for each of 500 candidates, totalling 2500 fits\n"
     ]
    },
    {
     "name": "stderr",
     "output_type": "stream",
     "text": [
      "[Parallel(n_jobs=-1)]: Using backend LokyBackend with 32 concurrent workers.\n",
      "[Parallel(n_jobs=-1)]: Done  98 tasks      | elapsed:  1.7min\n",
      "[Parallel(n_jobs=-1)]: Done 301 tasks      | elapsed:  1.9min\n",
      "[Parallel(n_jobs=-1)]: Done 584 tasks      | elapsed:  2.1min\n",
      "[Parallel(n_jobs=-1)]: Done 949 tasks      | elapsed:  2.3min\n",
      "[Parallel(n_jobs=-1)]: Done 1394 tasks      | elapsed:  2.6min\n",
      "[Parallel(n_jobs=-1)]: Done 1921 tasks      | elapsed:  3.0min\n",
      "[Parallel(n_jobs=-1)]: Done 2500 out of 2500 | elapsed:  3.4min finished\n",
      "/nfs/a68/earlacoa/miniconda2/envs/python3/lib/python3.6/site-packages/sklearn/gaussian_process/_gpr.py:494: ConvergenceWarning: lbfgs failed to converge (status=2):\n",
      "ABNORMAL_TERMINATION_IN_LNSRCH.\n",
      "\n",
      "Increase the number of iterations (max_iter) or scale the data as shown in:\n",
      "    https://scikit-learn.org/stable/modules/preprocessing.html\n",
      "  _check_optimize_result(\"lbfgs\", opt_res)\n"
     ]
    },
    {
     "name": "stdout",
     "output_type": "stream",
     "text": [
      "CV score: -11.2489\n",
      "test score: -1.1352\n",
      "best estimator: GaussianProcessRegressor(alpha=1e-10, copy_X_train=True,\n",
      "                         kernel=Matern(length_scale=4.5, nu=1.5),\n",
      "                         n_restarts_optimizer=140, normalize_y=False,\n",
      "                         optimizer='fmin_l_bfgs_b', random_state=123)\n",
      "Fitting 5 folds for each of 500 candidates, totalling 2500 fits\n"
     ]
    },
    {
     "name": "stderr",
     "output_type": "stream",
     "text": [
      "[Parallel(n_jobs=-1)]: Using backend LokyBackend with 32 concurrent workers.\n",
      "[Parallel(n_jobs=-1)]: Done  98 tasks      | elapsed:  1.7min\n",
      "[Parallel(n_jobs=-1)]: Done 301 tasks      | elapsed:  1.9min\n",
      "[Parallel(n_jobs=-1)]: Done 584 tasks      | elapsed:  2.1min\n",
      "[Parallel(n_jobs=-1)]: Done 949 tasks      | elapsed:  2.4min\n",
      "[Parallel(n_jobs=-1)]: Done 1394 tasks      | elapsed:  2.8min\n",
      "[Parallel(n_jobs=-1)]: Done 1921 tasks      | elapsed:  3.2min\n",
      "[Parallel(n_jobs=-1)]: Done 2500 out of 2500 | elapsed:  3.8min finished\n",
      "/nfs/a68/earlacoa/miniconda2/envs/python3/lib/python3.6/site-packages/sklearn/gaussian_process/_gpr.py:494: ConvergenceWarning: lbfgs failed to converge (status=2):\n",
      "ABNORMAL_TERMINATION_IN_LNSRCH.\n",
      "\n",
      "Increase the number of iterations (max_iter) or scale the data as shown in:\n",
      "    https://scikit-learn.org/stable/modules/preprocessing.html\n",
      "  _check_optimize_result(\"lbfgs\", opt_res)\n"
     ]
    },
    {
     "name": "stdout",
     "output_type": "stream",
     "text": [
      "CV score: -25.4653\n",
      "test score: -3.2871\n",
      "best estimator: GaussianProcessRegressor(alpha=1e-10, copy_X_train=True,\n",
      "                         kernel=Matern(length_scale=0.9, nu=1.5),\n",
      "                         n_restarts_optimizer=135, normalize_y=False,\n",
      "                         optimizer='fmin_l_bfgs_b', random_state=123)\n",
      "Fitting 5 folds for each of 500 candidates, totalling 2500 fits\n"
     ]
    },
    {
     "name": "stderr",
     "output_type": "stream",
     "text": [
      "[Parallel(n_jobs=-1)]: Using backend LokyBackend with 32 concurrent workers.\n",
      "[Parallel(n_jobs=-1)]: Done  98 tasks      | elapsed:  1.7min\n",
      "[Parallel(n_jobs=-1)]: Done 301 tasks      | elapsed:  1.8min\n",
      "[Parallel(n_jobs=-1)]: Done 584 tasks      | elapsed:  2.1min\n",
      "[Parallel(n_jobs=-1)]: Done 949 tasks      | elapsed:  2.3min\n",
      "[Parallel(n_jobs=-1)]: Done 1394 tasks      | elapsed:  2.7min\n",
      "[Parallel(n_jobs=-1)]: Done 1921 tasks      | elapsed:  3.1min\n",
      "[Parallel(n_jobs=-1)]: Done 2500 out of 2500 | elapsed:  3.6min finished\n",
      "/nfs/a68/earlacoa/miniconda2/envs/python3/lib/python3.6/site-packages/sklearn/gaussian_process/_gpr.py:494: ConvergenceWarning: lbfgs failed to converge (status=2):\n",
      "ABNORMAL_TERMINATION_IN_LNSRCH.\n",
      "\n",
      "Increase the number of iterations (max_iter) or scale the data as shown in:\n",
      "    https://scikit-learn.org/stable/modules/preprocessing.html\n",
      "  _check_optimize_result(\"lbfgs\", opt_res)\n"
     ]
    },
    {
     "name": "stdout",
     "output_type": "stream",
     "text": [
      "CV score: -72.6185\n",
      "test score: -121.6146\n",
      "best estimator: GaussianProcessRegressor(alpha=1e-10, copy_X_train=True,\n",
      "                         kernel=RBF(length_scale=4.8), n_restarts_optimizer=150,\n",
      "                         normalize_y=False, optimizer='fmin_l_bfgs_b',\n",
      "                         random_state=123)\n",
      "Fitting 5 folds for each of 500 candidates, totalling 2500 fits\n"
     ]
    },
    {
     "name": "stderr",
     "output_type": "stream",
     "text": [
      "[Parallel(n_jobs=-1)]: Using backend LokyBackend with 32 concurrent workers.\n",
      "[Parallel(n_jobs=-1)]: Done  98 tasks      | elapsed:  2.4min\n",
      "[Parallel(n_jobs=-1)]: Done 301 tasks      | elapsed:  2.5min\n",
      "[Parallel(n_jobs=-1)]: Done 584 tasks      | elapsed:  2.7min\n",
      "[Parallel(n_jobs=-1)]: Done 949 tasks      | elapsed:  2.9min\n",
      "[Parallel(n_jobs=-1)]: Done 1394 tasks      | elapsed:  3.3min\n",
      "[Parallel(n_jobs=-1)]: Done 1921 tasks      | elapsed:  3.6min\n",
      "[Parallel(n_jobs=-1)]: Done 2500 out of 2500 | elapsed:  4.1min finished\n",
      "/nfs/a68/earlacoa/miniconda2/envs/python3/lib/python3.6/site-packages/sklearn/gaussian_process/_gpr.py:494: ConvergenceWarning: lbfgs failed to converge (status=2):\n",
      "ABNORMAL_TERMINATION_IN_LNSRCH.\n",
      "\n",
      "Increase the number of iterations (max_iter) or scale the data as shown in:\n",
      "    https://scikit-learn.org/stable/modules/preprocessing.html\n",
      "  _check_optimize_result(\"lbfgs\", opt_res)\n"
     ]
    },
    {
     "name": "stdout",
     "output_type": "stream",
     "text": [
      "CV score: -7.0985\n",
      "test score: -0.1704\n",
      "best estimator: GaussianProcessRegressor(alpha=1e-10, copy_X_train=True, kernel=1.55**2,\n",
      "                         n_restarts_optimizer=155, normalize_y=False,\n",
      "                         optimizer='fmin_l_bfgs_b', random_state=123)\n",
      "Fitting 5 folds for each of 500 candidates, totalling 2500 fits\n"
     ]
    },
    {
     "name": "stderr",
     "output_type": "stream",
     "text": [
      "[Parallel(n_jobs=-1)]: Using backend LokyBackend with 32 concurrent workers.\n",
      "[Parallel(n_jobs=-1)]: Done  98 tasks      | elapsed:  1.7min\n",
      "[Parallel(n_jobs=-1)]: Done 301 tasks      | elapsed:  1.8min\n",
      "[Parallel(n_jobs=-1)]: Done 584 tasks      | elapsed:  2.0min\n",
      "[Parallel(n_jobs=-1)]: Done 949 tasks      | elapsed:  2.3min\n",
      "[Parallel(n_jobs=-1)]: Done 1394 tasks      | elapsed:  2.6min\n",
      "[Parallel(n_jobs=-1)]: Done 1921 tasks      | elapsed:  3.0min\n",
      "[Parallel(n_jobs=-1)]: Done 2500 out of 2500 | elapsed:  3.4min finished\n",
      "/nfs/a68/earlacoa/miniconda2/envs/python3/lib/python3.6/site-packages/sklearn/gaussian_process/_gpr.py:494: ConvergenceWarning: lbfgs failed to converge (status=2):\n",
      "ABNORMAL_TERMINATION_IN_LNSRCH.\n",
      "\n",
      "Increase the number of iterations (max_iter) or scale the data as shown in:\n",
      "    https://scikit-learn.org/stable/modules/preprocessing.html\n",
      "  _check_optimize_result(\"lbfgs\", opt_res)\n"
     ]
    },
    {
     "name": "stdout",
     "output_type": "stream",
     "text": [
      "CV score: -7.3825\n",
      "test score: -0.4476\n",
      "best estimator: GaussianProcessRegressor(alpha=1e-10, copy_X_train=True, kernel=0.316**2,\n",
      "                         n_restarts_optimizer=120, normalize_y=False,\n",
      "                         optimizer='fmin_l_bfgs_b', random_state=123)\n",
      "Fitting 5 folds for each of 500 candidates, totalling 2500 fits\n"
     ]
    },
    {
     "name": "stderr",
     "output_type": "stream",
     "text": [
      "[Parallel(n_jobs=-1)]: Using backend LokyBackend with 32 concurrent workers.\n",
      "[Parallel(n_jobs=-1)]: Done  98 tasks      | elapsed:  1.7min\n",
      "[Parallel(n_jobs=-1)]: Done 301 tasks      | elapsed:  1.9min\n",
      "[Parallel(n_jobs=-1)]: Done 584 tasks      | elapsed:  2.1min\n",
      "[Parallel(n_jobs=-1)]: Done 949 tasks      | elapsed:  2.4min\n",
      "[Parallel(n_jobs=-1)]: Done 1394 tasks      | elapsed:  2.7min\n",
      "[Parallel(n_jobs=-1)]: Done 1921 tasks      | elapsed:  3.2min\n",
      "[Parallel(n_jobs=-1)]: Done 2500 out of 2500 | elapsed:  3.7min finished\n",
      "/nfs/a68/earlacoa/miniconda2/envs/python3/lib/python3.6/site-packages/sklearn/gaussian_process/_gpr.py:494: ConvergenceWarning: lbfgs failed to converge (status=2):\n",
      "ABNORMAL_TERMINATION_IN_LNSRCH.\n",
      "\n",
      "Increase the number of iterations (max_iter) or scale the data as shown in:\n",
      "    https://scikit-learn.org/stable/modules/preprocessing.html\n",
      "  _check_optimize_result(\"lbfgs\", opt_res)\n"
     ]
    },
    {
     "name": "stdout",
     "output_type": "stream",
     "text": [
      "CV score: -12.1404\n",
      "test score: -0.4050\n",
      "best estimator: GaussianProcessRegressor(alpha=1e-10, copy_X_train=True, kernel=2.05**2,\n",
      "                         n_restarts_optimizer=165, normalize_y=False,\n",
      "                         optimizer='fmin_l_bfgs_b', random_state=123)\n",
      "Fitting 5 folds for each of 500 candidates, totalling 2500 fits\n"
     ]
    },
    {
     "name": "stderr",
     "output_type": "stream",
     "text": [
      "[Parallel(n_jobs=-1)]: Using backend LokyBackend with 32 concurrent workers.\n",
      "[Parallel(n_jobs=-1)]: Done  98 tasks      | elapsed:  1.7min\n",
      "[Parallel(n_jobs=-1)]: Done 301 tasks      | elapsed:  1.9min\n",
      "[Parallel(n_jobs=-1)]: Done 584 tasks      | elapsed:  2.1min\n",
      "[Parallel(n_jobs=-1)]: Done 949 tasks      | elapsed:  2.3min\n",
      "[Parallel(n_jobs=-1)]: Done 1394 tasks      | elapsed:  2.6min\n",
      "[Parallel(n_jobs=-1)]: Done 1921 tasks      | elapsed:  3.0min\n",
      "[Parallel(n_jobs=-1)]: Done 2500 out of 2500 | elapsed:  3.4min finished\n",
      "/nfs/a68/earlacoa/miniconda2/envs/python3/lib/python3.6/site-packages/sklearn/gaussian_process/_gpr.py:494: ConvergenceWarning: lbfgs failed to converge (status=2):\n",
      "ABNORMAL_TERMINATION_IN_LNSRCH.\n",
      "\n",
      "Increase the number of iterations (max_iter) or scale the data as shown in:\n",
      "    https://scikit-learn.org/stable/modules/preprocessing.html\n",
      "  _check_optimize_result(\"lbfgs\", opt_res)\n"
     ]
    },
    {
     "name": "stdout",
     "output_type": "stream",
     "text": [
      "CV score: -14.0372\n",
      "test score: -2.5986\n",
      "best estimator: GaussianProcessRegressor(alpha=1e-10, copy_X_train=True,\n",
      "                         kernel=RBF(length_scale=2.2), n_restarts_optimizer=140,\n",
      "                         normalize_y=False, optimizer='fmin_l_bfgs_b',\n",
      "                         random_state=123)\n",
      "Fitting 5 folds for each of 500 candidates, totalling 2500 fits\n"
     ]
    },
    {
     "name": "stderr",
     "output_type": "stream",
     "text": [
      "[Parallel(n_jobs=-1)]: Using backend LokyBackend with 32 concurrent workers.\n",
      "[Parallel(n_jobs=-1)]: Done  98 tasks      | elapsed:  1.8min\n",
      "[Parallel(n_jobs=-1)]: Done 301 tasks      | elapsed:  1.9min\n",
      "[Parallel(n_jobs=-1)]: Done 584 tasks      | elapsed:  2.3min\n",
      "[Parallel(n_jobs=-1)]: Done 949 tasks      | elapsed:  2.6min\n",
      "[Parallel(n_jobs=-1)]: Done 1394 tasks      | elapsed:  3.0min\n",
      "[Parallel(n_jobs=-1)]: Done 1921 tasks      | elapsed:  3.6min\n",
      "[Parallel(n_jobs=-1)]: Done 2500 out of 2500 | elapsed:  4.2min finished\n",
      "/nfs/a68/earlacoa/miniconda2/envs/python3/lib/python3.6/site-packages/sklearn/gaussian_process/_gpr.py:494: ConvergenceWarning: lbfgs failed to converge (status=2):\n",
      "ABNORMAL_TERMINATION_IN_LNSRCH.\n",
      "\n",
      "Increase the number of iterations (max_iter) or scale the data as shown in:\n",
      "    https://scikit-learn.org/stable/modules/preprocessing.html\n",
      "  _check_optimize_result(\"lbfgs\", opt_res)\n"
     ]
    },
    {
     "name": "stdout",
     "output_type": "stream",
     "text": [
      "CV score: -11.4713\n",
      "test score: -0.7884\n",
      "best estimator: GaussianProcessRegressor(alpha=1e-10, copy_X_train=True, kernel=1.9**2,\n",
      "                         n_restarts_optimizer=100, normalize_y=False,\n",
      "                         optimizer='fmin_l_bfgs_b', random_state=123)\n",
      "Fitting 5 folds for each of 500 candidates, totalling 2500 fits\n"
     ]
    },
    {
     "name": "stderr",
     "output_type": "stream",
     "text": [
      "[Parallel(n_jobs=-1)]: Using backend LokyBackend with 32 concurrent workers.\n",
      "[Parallel(n_jobs=-1)]: Done  98 tasks      | elapsed:  1.7min\n",
      "[Parallel(n_jobs=-1)]: Done 301 tasks      | elapsed:  1.9min\n",
      "[Parallel(n_jobs=-1)]: Done 584 tasks      | elapsed:  2.3min\n",
      "[Parallel(n_jobs=-1)]: Done 949 tasks      | elapsed:  2.7min\n",
      "[Parallel(n_jobs=-1)]: Done 1394 tasks      | elapsed:  3.2min\n",
      "[Parallel(n_jobs=-1)]: Done 1921 tasks      | elapsed:  3.9min\n",
      "[Parallel(n_jobs=-1)]: Done 2500 out of 2500 | elapsed:  4.5min finished\n",
      "/nfs/a68/earlacoa/miniconda2/envs/python3/lib/python3.6/site-packages/sklearn/gaussian_process/_gpr.py:494: ConvergenceWarning: lbfgs failed to converge (status=2):\n",
      "ABNORMAL_TERMINATION_IN_LNSRCH.\n",
      "\n",
      "Increase the number of iterations (max_iter) or scale the data as shown in:\n",
      "    https://scikit-learn.org/stable/modules/preprocessing.html\n",
      "  _check_optimize_result(\"lbfgs\", opt_res)\n"
     ]
    },
    {
     "name": "stdout",
     "output_type": "stream",
     "text": [
      "CV score: -2.9959\n",
      "test score: -1.1839\n",
      "best estimator: GaussianProcessRegressor(alpha=1e-10, copy_X_train=True, kernel=1**2,\n",
      "                         n_restarts_optimizer=140, normalize_y=False,\n",
      "                         optimizer='fmin_l_bfgs_b', random_state=123)\n",
      "Fitting 5 folds for each of 500 candidates, totalling 2500 fits\n"
     ]
    },
    {
     "name": "stderr",
     "output_type": "stream",
     "text": [
      "[Parallel(n_jobs=-1)]: Using backend LokyBackend with 32 concurrent workers.\n",
      "[Parallel(n_jobs=-1)]: Done  98 tasks      | elapsed:  1.7min\n",
      "[Parallel(n_jobs=-1)]: Done 301 tasks      | elapsed:  1.9min\n",
      "[Parallel(n_jobs=-1)]: Done 584 tasks      | elapsed:  2.1min\n",
      "[Parallel(n_jobs=-1)]: Done 949 tasks      | elapsed:  2.4min\n",
      "[Parallel(n_jobs=-1)]: Done 1394 tasks      | elapsed:  2.7min\n",
      "[Parallel(n_jobs=-1)]: Done 1921 tasks      | elapsed:  3.1min\n",
      "[Parallel(n_jobs=-1)]: Done 2500 out of 2500 | elapsed:  3.7min finished\n",
      "/nfs/a68/earlacoa/miniconda2/envs/python3/lib/python3.6/site-packages/sklearn/gaussian_process/_gpr.py:494: ConvergenceWarning: lbfgs failed to converge (status=2):\n",
      "ABNORMAL_TERMINATION_IN_LNSRCH.\n",
      "\n",
      "Increase the number of iterations (max_iter) or scale the data as shown in:\n",
      "    https://scikit-learn.org/stable/modules/preprocessing.html\n",
      "  _check_optimize_result(\"lbfgs\", opt_res)\n"
     ]
    },
    {
     "name": "stdout",
     "output_type": "stream",
     "text": [
      "CV score: -1429.4209\n",
      "test score: -1.1434\n",
      "best estimator: GaussianProcessRegressor(alpha=1e-10, copy_X_train=True,\n",
      "                         kernel=DotProduct(sigma_0=3.1),\n",
      "                         n_restarts_optimizer=165, normalize_y=False,\n",
      "                         optimizer='fmin_l_bfgs_b', random_state=123)\n",
      "Fitting 5 folds for each of 500 candidates, totalling 2500 fits\n"
     ]
    },
    {
     "name": "stderr",
     "output_type": "stream",
     "text": [
      "[Parallel(n_jobs=-1)]: Using backend LokyBackend with 32 concurrent workers.\n",
      "[Parallel(n_jobs=-1)]: Done  98 tasks      | elapsed:  1.7min\n",
      "[Parallel(n_jobs=-1)]: Done 301 tasks      | elapsed:  1.8min\n",
      "[Parallel(n_jobs=-1)]: Done 584 tasks      | elapsed:  2.0min\n",
      "[Parallel(n_jobs=-1)]: Done 949 tasks      | elapsed:  2.3min\n",
      "[Parallel(n_jobs=-1)]: Done 1394 tasks      | elapsed:  2.6min\n",
      "[Parallel(n_jobs=-1)]: Done 1921 tasks      | elapsed:  3.0min\n",
      "[Parallel(n_jobs=-1)]: Done 2500 out of 2500 | elapsed:  3.5min finished\n",
      "/nfs/a68/earlacoa/miniconda2/envs/python3/lib/python3.6/site-packages/sklearn/gaussian_process/_gpr.py:494: ConvergenceWarning: lbfgs failed to converge (status=2):\n",
      "ABNORMAL_TERMINATION_IN_LNSRCH.\n",
      "\n",
      "Increase the number of iterations (max_iter) or scale the data as shown in:\n",
      "    https://scikit-learn.org/stable/modules/preprocessing.html\n",
      "  _check_optimize_result(\"lbfgs\", opt_res)\n"
     ]
    },
    {
     "name": "stdout",
     "output_type": "stream",
     "text": [
      "CV score: -33.6870\n",
      "test score: -0.1809\n",
      "best estimator: GaussianProcessRegressor(alpha=1e-10, copy_X_train=True, kernel=1.45**2,\n",
      "                         n_restarts_optimizer=130, normalize_y=False,\n",
      "                         optimizer='fmin_l_bfgs_b', random_state=123)\n",
      "Fitting 5 folds for each of 500 candidates, totalling 2500 fits\n"
     ]
    },
    {
     "name": "stderr",
     "output_type": "stream",
     "text": [
      "[Parallel(n_jobs=-1)]: Using backend LokyBackend with 32 concurrent workers.\n",
      "[Parallel(n_jobs=-1)]: Done  98 tasks      | elapsed:  2.3min\n",
      "[Parallel(n_jobs=-1)]: Done 301 tasks      | elapsed:  2.5min\n",
      "[Parallel(n_jobs=-1)]: Done 584 tasks      | elapsed:  2.7min\n",
      "[Parallel(n_jobs=-1)]: Done 949 tasks      | elapsed:  2.9min\n",
      "[Parallel(n_jobs=-1)]: Done 1394 tasks      | elapsed:  3.3min\n",
      "[Parallel(n_jobs=-1)]: Done 1921 tasks      | elapsed:  3.7min\n",
      "[Parallel(n_jobs=-1)]: Done 2500 out of 2500 | elapsed:  4.2min finished\n",
      "/nfs/a68/earlacoa/miniconda2/envs/python3/lib/python3.6/site-packages/sklearn/gaussian_process/_gpr.py:494: ConvergenceWarning: lbfgs failed to converge (status=2):\n",
      "ABNORMAL_TERMINATION_IN_LNSRCH.\n",
      "\n",
      "Increase the number of iterations (max_iter) or scale the data as shown in:\n",
      "    https://scikit-learn.org/stable/modules/preprocessing.html\n",
      "  _check_optimize_result(\"lbfgs\", opt_res)\n"
     ]
    },
    {
     "name": "stdout",
     "output_type": "stream",
     "text": [
      "CV score: -58.5457\n",
      "test score: -4.2502\n",
      "best estimator: GaussianProcessRegressor(alpha=1e-10, copy_X_train=True,\n",
      "                         kernel=RBF(length_scale=0.8), n_restarts_optimizer=195,\n",
      "                         normalize_y=False, optimizer='fmin_l_bfgs_b',\n",
      "                         random_state=123)\n",
      "Fitting 5 folds for each of 500 candidates, totalling 2500 fits\n"
     ]
    },
    {
     "name": "stderr",
     "output_type": "stream",
     "text": [
      "[Parallel(n_jobs=-1)]: Using backend LokyBackend with 32 concurrent workers.\n",
      "[Parallel(n_jobs=-1)]: Done  98 tasks      | elapsed:  1.8min\n",
      "[Parallel(n_jobs=-1)]: Done 301 tasks      | elapsed:  2.0min\n",
      "[Parallel(n_jobs=-1)]: Done 584 tasks      | elapsed:  2.5min\n",
      "[Parallel(n_jobs=-1)]: Done 949 tasks      | elapsed:  2.9min\n",
      "[Parallel(n_jobs=-1)]: Done 1394 tasks      | elapsed:  3.5min\n",
      "[Parallel(n_jobs=-1)]: Done 1921 tasks      | elapsed:  4.1min\n",
      "[Parallel(n_jobs=-1)]: Done 2500 out of 2500 | elapsed:  4.9min finished\n",
      "/nfs/a68/earlacoa/miniconda2/envs/python3/lib/python3.6/site-packages/sklearn/gaussian_process/_gpr.py:494: ConvergenceWarning: lbfgs failed to converge (status=2):\n",
      "ABNORMAL_TERMINATION_IN_LNSRCH.\n",
      "\n",
      "Increase the number of iterations (max_iter) or scale the data as shown in:\n",
      "    https://scikit-learn.org/stable/modules/preprocessing.html\n",
      "  _check_optimize_result(\"lbfgs\", opt_res)\n"
     ]
    },
    {
     "name": "stdout",
     "output_type": "stream",
     "text": [
      "CV score: -9.5768\n",
      "test score: -0.8100\n",
      "best estimator: GaussianProcessRegressor(alpha=1e-10, copy_X_train=True,\n",
      "                         kernel=RBF(length_scale=0.8), n_restarts_optimizer=170,\n",
      "                         normalize_y=False, optimizer='fmin_l_bfgs_b',\n",
      "                         random_state=123)\n",
      "Fitting 5 folds for each of 500 candidates, totalling 2500 fits\n"
     ]
    },
    {
     "name": "stderr",
     "output_type": "stream",
     "text": [
      "[Parallel(n_jobs=-1)]: Using backend LokyBackend with 32 concurrent workers.\n",
      "[Parallel(n_jobs=-1)]: Done  98 tasks      | elapsed:  1.7min\n",
      "[Parallel(n_jobs=-1)]: Done 301 tasks      | elapsed:  1.9min\n",
      "[Parallel(n_jobs=-1)]: Done 584 tasks      | elapsed:  2.3min\n",
      "[Parallel(n_jobs=-1)]: Done 949 tasks      | elapsed:  2.6min\n",
      "[Parallel(n_jobs=-1)]: Done 1394 tasks      | elapsed:  3.1min\n",
      "[Parallel(n_jobs=-1)]: Done 1921 tasks      | elapsed:  3.6min\n",
      "[Parallel(n_jobs=-1)]: Done 2500 out of 2500 | elapsed:  4.2min finished\n",
      "/nfs/a68/earlacoa/miniconda2/envs/python3/lib/python3.6/site-packages/sklearn/gaussian_process/_gpr.py:494: ConvergenceWarning: lbfgs failed to converge (status=2):\n",
      "ABNORMAL_TERMINATION_IN_LNSRCH.\n",
      "\n",
      "Increase the number of iterations (max_iter) or scale the data as shown in:\n",
      "    https://scikit-learn.org/stable/modules/preprocessing.html\n",
      "  _check_optimize_result(\"lbfgs\", opt_res)\n"
     ]
    },
    {
     "name": "stdout",
     "output_type": "stream",
     "text": [
      "CV score: -4.3222\n",
      "test score: -0.0205\n",
      "best estimator: GaussianProcessRegressor(alpha=1e-10, copy_X_train=True, kernel=1.9**2,\n",
      "                         n_restarts_optimizer=100, normalize_y=False,\n",
      "                         optimizer='fmin_l_bfgs_b', random_state=123)\n",
      "Fitting 5 folds for each of 500 candidates, totalling 2500 fits\n"
     ]
    },
    {
     "name": "stderr",
     "output_type": "stream",
     "text": [
      "[Parallel(n_jobs=-1)]: Using backend LokyBackend with 32 concurrent workers.\n",
      "[Parallel(n_jobs=-1)]: Done  98 tasks      | elapsed:  1.8min\n",
      "[Parallel(n_jobs=-1)]: Done 301 tasks      | elapsed:  2.1min\n",
      "[Parallel(n_jobs=-1)]: Done 584 tasks      | elapsed:  2.5min\n",
      "[Parallel(n_jobs=-1)]: Done 949 tasks      | elapsed:  2.9min\n",
      "[Parallel(n_jobs=-1)]: Done 1394 tasks      | elapsed:  3.7min\n",
      "[Parallel(n_jobs=-1)]: Done 1921 tasks      | elapsed:  4.3min\n",
      "[Parallel(n_jobs=-1)]: Done 2500 out of 2500 | elapsed:  5.1min finished\n",
      "/nfs/a68/earlacoa/miniconda2/envs/python3/lib/python3.6/site-packages/sklearn/gaussian_process/_gpr.py:494: ConvergenceWarning: lbfgs failed to converge (status=2):\n",
      "ABNORMAL_TERMINATION_IN_LNSRCH.\n",
      "\n",
      "Increase the number of iterations (max_iter) or scale the data as shown in:\n",
      "    https://scikit-learn.org/stable/modules/preprocessing.html\n",
      "  _check_optimize_result(\"lbfgs\", opt_res)\n"
     ]
    },
    {
     "name": "stdout",
     "output_type": "stream",
     "text": [
      "CV score: -1.9908\n",
      "test score: -0.9350\n",
      "best estimator: GaussianProcessRegressor(alpha=1e-10, copy_X_train=True, kernel=1.95**2,\n",
      "                         n_restarts_optimizer=135, normalize_y=False,\n",
      "                         optimizer='fmin_l_bfgs_b', random_state=123)\n",
      "Fitting 5 folds for each of 500 candidates, totalling 2500 fits\n"
     ]
    },
    {
     "name": "stderr",
     "output_type": "stream",
     "text": [
      "[Parallel(n_jobs=-1)]: Using backend LokyBackend with 32 concurrent workers.\n",
      "[Parallel(n_jobs=-1)]: Done  98 tasks      | elapsed:  1.6min\n",
      "[Parallel(n_jobs=-1)]: Done 301 tasks      | elapsed:  1.8min\n",
      "[Parallel(n_jobs=-1)]: Done 584 tasks      | elapsed:  2.1min\n",
      "[Parallel(n_jobs=-1)]: Done 949 tasks      | elapsed:  2.4min\n",
      "[Parallel(n_jobs=-1)]: Done 1394 tasks      | elapsed:  2.8min\n",
      "[Parallel(n_jobs=-1)]: Done 1921 tasks      | elapsed:  3.3min\n",
      "[Parallel(n_jobs=-1)]: Done 2500 out of 2500 | elapsed:  3.8min finished\n",
      "/nfs/a68/earlacoa/miniconda2/envs/python3/lib/python3.6/site-packages/sklearn/gaussian_process/_gpr.py:494: ConvergenceWarning: lbfgs failed to converge (status=2):\n",
      "ABNORMAL_TERMINATION_IN_LNSRCH.\n",
      "\n",
      "Increase the number of iterations (max_iter) or scale the data as shown in:\n",
      "    https://scikit-learn.org/stable/modules/preprocessing.html\n",
      "  _check_optimize_result(\"lbfgs\", opt_res)\n"
     ]
    },
    {
     "name": "stdout",
     "output_type": "stream",
     "text": [
      "CV score: -723.2141\n",
      "test score: -0.1420\n",
      "best estimator: GaussianProcessRegressor(alpha=1e-10, copy_X_train=True, kernel=0.548**2,\n",
      "                         n_restarts_optimizer=180, normalize_y=False,\n",
      "                         optimizer='fmin_l_bfgs_b', random_state=123)\n",
      "Fitting 5 folds for each of 500 candidates, totalling 2500 fits\n"
     ]
    },
    {
     "name": "stderr",
     "output_type": "stream",
     "text": [
      "[Parallel(n_jobs=-1)]: Using backend LokyBackend with 32 concurrent workers.\n",
      "[Parallel(n_jobs=-1)]: Done  98 tasks      | elapsed:  1.7min\n",
      "[Parallel(n_jobs=-1)]: Done 301 tasks      | elapsed:  1.8min\n",
      "[Parallel(n_jobs=-1)]: Done 584 tasks      | elapsed:  2.1min\n",
      "[Parallel(n_jobs=-1)]: Done 949 tasks      | elapsed:  2.5min\n",
      "[Parallel(n_jobs=-1)]: Done 1394 tasks      | elapsed:  2.9min\n",
      "[Parallel(n_jobs=-1)]: Done 1921 tasks      | elapsed:  3.4min\n",
      "[Parallel(n_jobs=-1)]: Done 2500 out of 2500 | elapsed:  4.0min finished\n",
      "/nfs/a68/earlacoa/miniconda2/envs/python3/lib/python3.6/site-packages/sklearn/gaussian_process/_gpr.py:494: ConvergenceWarning: lbfgs failed to converge (status=2):\n",
      "ABNORMAL_TERMINATION_IN_LNSRCH.\n",
      "\n",
      "Increase the number of iterations (max_iter) or scale the data as shown in:\n",
      "    https://scikit-learn.org/stable/modules/preprocessing.html\n",
      "  _check_optimize_result(\"lbfgs\", opt_res)\n"
     ]
    },
    {
     "name": "stdout",
     "output_type": "stream",
     "text": [
      "CV score: -24.3838\n",
      "test score: -0.8828\n",
      "best estimator: GaussianProcessRegressor(alpha=1e-10, copy_X_train=True, kernel=1.9**2,\n",
      "                         n_restarts_optimizer=100, normalize_y=False,\n",
      "                         optimizer='fmin_l_bfgs_b', random_state=123)\n"
     ]
    }
   ],
   "source": [
    "lats = df_gridcells[['lat', 'lon']].drop_duplicates()['lat'].values\n",
    "lons = df_gridcells[['lat', 'lon']].drop_duplicates()['lon'].values\n",
    "\n",
    "features = ['RES', 'IND', 'TRA', 'AGR', 'POW']\n",
    "target = 'PM2_5_DRY'\n",
    "\n",
    "for gridcell in df_gridcells[['lat', 'lon']].drop_duplicates().values:\n",
    "    lat, lon = gridcell\n",
    "    df_gridcell = df_gridcells.loc[df_gridcells.lat == lat].loc[df_gridcells.lon == lon]\n",
    "    \n",
    "    X = df_gridcell[features].values\n",
    "    y = df_gridcell[target].values\n",
    "    \n",
    "    X_train, X_test, y_train, y_test = train_test_split(\n",
    "        X, y, test_size=0.33, random_state=123\n",
    "    )\n",
    "    \n",
    "    loo = LeaveOneOut()\n",
    "    #cv = loo.get_n_splits(X_train) # causes all NaNs at the moment, so using 5-fold for the time being\n",
    "    cv = 5\n",
    "    \n",
    "    gp = GaussianProcessRegressor(random_state=123)\n",
    "    emulator = RandomizedSearchCV(\n",
    "        gp,         \n",
    "        param_grid,\n",
    "        cv=cv,\n",
    "        n_jobs=-1,         \n",
    "        n_iter=500,   \n",
    "        random_state=123,                    \n",
    "        verbose=2)\n",
    "    emulator.fit(X_train, y_train)\n",
    "\n",
    "    print(f\"CV score: {emulator.best_score_:.4f}\")\n",
    "    print(f\"test score: {emulator.score(X_test, y_test):.4f}\")\n",
    "    print(f\"best estimator: {emulator.best_estimator_}\")"
   ]
  },
  {
   "cell_type": "code",
   "execution_count": null,
   "metadata": {},
   "outputs": [],
   "source": []
  }
 ],
 "metadata": {
  "kernelspec": {
   "display_name": "python3",
   "language": "python",
   "name": "python3"
  },
  "language_info": {
   "codemirror_mode": {
    "name": "ipython",
    "version": 3
   },
   "file_extension": ".py",
   "mimetype": "text/x-python",
   "name": "python",
   "nbconvert_exporter": "python",
   "pygments_lexer": "ipython3",
   "version": "3.6.7"
  }
 },
 "nbformat": 4,
 "nbformat_minor": 4
}
